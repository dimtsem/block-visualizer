{
 "cells": [
  {
   "cell_type": "markdown",
   "metadata": {},
   "source": [
    "# Clustering Addresses on the Bitcoin Blockchain"
   ]
  },
  {
   "cell_type": "markdown",
   "metadata": {},
   "source": [
    "### Dimitris Tsementzis"
   ]
  },
  {
   "cell_type": "code",
   "execution_count": null,
   "metadata": {},
   "outputs": [],
   "source": [
    "import requests\n",
    "import time\n",
    "import pandas as pd\n",
    "import matplotlib as mp\n",
    "import matplotlib.pyplot as plt\n",
    "import numpy as np\n",
    "import json"
   ]
  },
  {
   "cell_type": "markdown",
   "metadata": {},
   "source": [
    "The aim of this notebook is to explain a method for clustering addresses on the Bitcoin blockchain, and indicate a use case for this information.\n",
    "\n",
    "It accompanies the **blocktxviz** application available <a href=\"https://blocktxviz.herokuapp.com\">here</a>.\n",
    "\n",
    "By \"clustering\" here we do not mean the idea of grouping addresses on the Bitcoin blockchain to \"users\" to which they belong in the real world (as e.g. is explored in <a href=\"https://cseweb.ucsd.edu/~smeiklejohn/files/imc13.pdf\">this</a> and <a href=\"https://eprint.iacr.org/2012/584.pdf\">this</a> paper), but rather the idea of clustering addresses according to their behaviour **only within** the Bitcoin blockchain. \n",
    "\n",
    "Contrary to many of the approaches that we have seen, this information seems to us to be far more relevant for predicting the financial behaviour (e.g. USD value) of Bitcoin. \n",
    "\n",
    "Furthermore it generalizes more easily to other cryptocurrencies, rather than relying on, say, Bitcoin-specific heuristics."
   ]
  },
  {
   "cell_type": "markdown",
   "metadata": {},
   "source": [
    "## Obtaining the data"
   ]
  },
  {
   "cell_type": "markdown",
   "metadata": {},
   "source": [
    "Data for transaction addresses was obtained from <a href=\"http://blockchain.info\">Blockchain.info</a> in the form of JSON files.\n",
    "\n",
    "This is done as follows."
   ]
  },
  {
   "cell_type": "markdown",
   "metadata": {},
   "source": [
    "First, we define the classes `BitcoinBlock` and `BitcoinAddress` tailored to the data as it is made available on the <a href=\"http://blockchain.info\">Blockchain.info</a> API."
   ]
  },
  {
   "cell_type": "code",
   "execution_count": null,
   "metadata": {},
   "outputs": [],
   "source": [
    "from addrstats import BitcoinBlock, BitcoinAddress"
   ]
  },
  {
   "cell_type": "markdown",
   "metadata": {},
   "source": [
    "The following script will then sample addresses that appear on recently minted blocks. The parameters are as follows:\n",
    "\n",
    "* `dayrange` is the range of days, starting from the present, from which blocks will be pooled\n",
    "* `blocksampleparameter` is the fraction of blocks from the pool that we will get addresses from\n",
    "* `addrsampleparameter` is the fraction of addresses from each block that we will get data for\n",
    "\n",
    "(Note that it is also possible to give integers for sampling parameters, to give an exact number for the samples. This requires changing the `frac` keyword in the `sample` method to `n` (e.g. `[...].sample(n = blocksampleparameter`.)"
   ]
  },
  {
   "cell_type": "code",
   "execution_count": null,
   "metadata": {},
   "outputs": [],
   "source": [
    "dayrange = 1\n",
    "blocksampleparameter = 0.01\n",
    "addrsampleparameter = 0.01"
   ]
  },
  {
   "cell_type": "markdown",
   "metadata": {},
   "source": [
    "Firstly, we obtain the blockhashes, for our given range."
   ]
  },
  {
   "cell_type": "code",
   "execution_count": null,
   "metadata": {},
   "outputs": [],
   "source": [
    "days = [int(round(int(round(time.time() * 1000)) - (n * 8.64e+7))) for n in range(dayrange)]\n",
    "blockhashes = {}\n",
    "for day in days:\n",
    "    try:\n",
    "        last24hourblocks = requests.get('https://blockchain.info/blocks/'+str(day)+'?format=json').json()\n",
    "        last24_blocklist = [x['hash'] for x in last24hourblocks['blocks']]\n",
    "        blockhashes[day] = list(pd.DataFrame({'A':last24_blocklist})['A'].sample(frac = blocksampleparameter))\n",
    "    except:\n",
    "        print('Could not obtain blocks for '+str(day))\n",
    "\n",
    "sample = [x for y in blockhashes.values() for x in y]"
   ]
  },
  {
   "cell_type": "code",
   "execution_count": null,
   "metadata": {},
   "outputs": [],
   "source": [
    "#Check how many blocks are in our sample\n",
    "len(sample)"
   ]
  },
  {
   "cell_type": "markdown",
   "metadata": {},
   "source": [
    "Now we sample addresses from these blocks. \n",
    "\n",
    "**A note of caution:** Before running the cell below note that this is potentially **a very large amount of data**. For `dayrange = 90` and the sampling parameters set to $0.1$ and $0.01$ the below cell will scrape approximately **70 GB** of data. So in order to test it out, set really low numbers. Alternatively, you can comment out the `json.dump` commands which will prevent the files getting saved to your local directory (the scraping will still take a very long time). \n",
    "\n",
    "The aim of the script below is to obtain statistics directly for each address sample from the blocks in our sample (`addr_stats`). The thought behind this is to make this analysis independent of actually having a database available. Practically, however, one would like to query directly from a database, especially if one is to make real-time use of this information.\n",
    "\n",
    "To give an indication of what to expect, if the sample contains only 3 blocks, the below script will run for approximately 5 minutes."
   ]
  },
  {
   "cell_type": "code",
   "execution_count": null,
   "metadata": {},
   "outputs": [],
   "source": [
    "addr_stats = []\n",
    "for blockhash in sample:\n",
    "    print('Scouring '+blockhash+ ' for addresses...')\n",
    "    try:\n",
    "        b = BitcoinBlock(blockhash)\n",
    "        with open('block_'+blockhash+'.json','w') as f:\n",
    "            json.dump(b.block,f)\n",
    "        try:\n",
    "            A = b.get_addresses()\n",
    "            for addr in list(pd.DataFrame(A).sample(frac = addrsampleparameter)[0]):\n",
    "                print('Getting data for '+addr+' ...')\n",
    "                try:\n",
    "                    a = BitcoinAddress(addr)\n",
    "                    with open('address_'+a.addrkey+'.json','w') as f:\n",
    "                        json.dump(a.address, f)  \n",
    "                    addr_stats.append(BitcoinAddress(addr).stats())\n",
    "                except:\n",
    "                    print('...failed')\n",
    "        except:\n",
    "            print('...failed')\n",
    "    except:\n",
    "        print('...failed to obtain block')"
   ]
  },
  {
   "cell_type": "markdown",
   "metadata": {},
   "source": [
    "We can now write the obtained statistics in a text file (as space separated columns) for further analysis."
   ]
  },
  {
   "cell_type": "code",
   "execution_count": null,
   "metadata": {},
   "outputs": [],
   "source": [
    "with open('stats.txt','w') as f:\n",
    "    f.write('\\n'.join([' '.join(map(str,x)) for x in addr_stats]))"
   ]
  },
  {
   "cell_type": "markdown",
   "metadata": {},
   "source": [
    "Finally, as an aside, if one is interested only in the blocks, the following code will save all the blocks in the `sample` (but not any addresses on them)"
   ]
  },
  {
   "cell_type": "code",
   "execution_count": null,
   "metadata": {},
   "outputs": [],
   "source": [
    "for blockhash in blocks:\n",
    "    print('Getting data for '+blockhash+ ' ...')\n",
    "    try:\n",
    "        b = BitcoinBlock(blockhash)\n",
    "        with open('block_'+blockhash+'.json','w') as f:\n",
    "            json.dump(b.block,f)\n",
    "    except:\n",
    "        print('...failed')"
   ]
  },
  {
   "cell_type": "markdown",
   "metadata": {},
   "source": [
    "## Analyzing the statistics for the addresses"
   ]
  },
  {
   "cell_type": "markdown",
   "metadata": {},
   "source": [
    "Let us now load some pre-computed statistics that have been obtained over large samples using the code above.\n",
    "\n",
    "(If you wish to use the data obtained above, use `training = 'stats.txt'` instead. However, the rest of the analysis may not apply, although, of course, we do expect it to apply to any statistics obtained from a large enough sample of addresses.)"
   ]
  },
  {
   "cell_type": "code",
   "execution_count": null,
   "metadata": {},
   "outputs": [],
   "source": [
    "training = 'stats_addrsample.txt'\n",
    "df = pd.read_table(training, delim_whitespace=True, header = None)\n",
    "df.columns = ['Total Transactions','BTC Received','BTC Sent','Total Senders','Total Recipients','Avg Tx Freq',\n",
    "                     'Max Tx interval','Min Tx interval']"
   ]
  },
  {
   "cell_type": "markdown",
   "metadata": {},
   "source": [
    "Let us get a sense of what the data looks like..."
   ]
  },
  {
   "cell_type": "code",
   "execution_count": null,
   "metadata": {},
   "outputs": [],
   "source": [
    "df.head()"
   ]
  },
  {
   "cell_type": "markdown",
   "metadata": {},
   "source": [
    "...its size..."
   ]
  },
  {
   "cell_type": "code",
   "execution_count": null,
   "metadata": {},
   "outputs": [],
   "source": [
    "df.shape"
   ]
  },
  {
   "cell_type": "markdown",
   "metadata": {},
   "source": [
    "...and some summary statistics of the features"
   ]
  },
  {
   "cell_type": "code",
   "execution_count": null,
   "metadata": {},
   "outputs": [],
   "source": [
    "df.describe()"
   ]
  },
  {
   "cell_type": "markdown",
   "metadata": {},
   "source": [
    "Some things to note here are the following.\n",
    "\n",
    "Firstly, the overwhelming majority of addresses have been sent BTC by and received BTC from a small number of addresses."
   ]
  },
  {
   "cell_type": "code",
   "execution_count": null,
   "metadata": {},
   "outputs": [],
   "source": [
    "plt.show(df['Total Recipients'].hist(bins = 100, alpha = 0.8))\n",
    "plt.show(df['Total Senders'].hist(bins = 100, alpha = 0.8))"
   ]
  },
  {
   "cell_type": "code",
   "execution_count": null,
   "metadata": {},
   "outputs": [],
   "source": [
    "# A function to plot histograms for Total Recipients and Total Senders in the range [n_min,n_max]\n",
    "def hist_rec_send(n_min,n_max):\n",
    "    plt.show(df[(df['Total Recipients'] > n_min) & (df['Total Recipients'] < n_max)]['Total Recipients']\\\n",
    "         .hist(bins = 100, alpha = 0.6))\n",
    "    plt.show(df[(df['Total Senders'] > n_min) & (df['Total Senders'] < n_max)]['Total Senders']\\\n",
    "         .hist(bins = 100, alpha = 0.6))"
   ]
  },
  {
   "cell_type": "markdown",
   "metadata": {},
   "source": [
    "Of particular interest is the spike in number of recipients around the 3000-5000 range, and the fact that no signifcant such spike exists in the number of senders:"
   ]
  },
  {
   "cell_type": "code",
   "execution_count": null,
   "metadata": {},
   "outputs": [],
   "source": [
    "hist_rec_send(1000,20000)"
   ]
  },
  {
   "cell_type": "markdown",
   "metadata": {},
   "source": [
    "And we also notice very similar behavior with respect to the distribution of the amount of BTC sent and received by addresses:"
   ]
  },
  {
   "cell_type": "code",
   "execution_count": null,
   "metadata": {},
   "outputs": [],
   "source": [
    "# A function to plot histograms for Total Recipients and Total Senders in the range [n_min,n_max]\n",
    "def hist_BTC_rec_send(n_min,n_max):\n",
    "    plt.show(df[(df['BTC Received'] > n_min) & (df['BTC Received'] < n_max)]['BTC Received']\\\n",
    "         .hist(bins = 100, alpha = 0.6))\n",
    "    plt.show(df[(df['BTC Sent'] > n_min) & (df['BTC Sent'] < n_max)]['BTC Sent']\\\n",
    "         .hist(bins = 100, alpha = 0.6))"
   ]
  },
  {
   "cell_type": "code",
   "execution_count": null,
   "metadata": {},
   "outputs": [],
   "source": [
    "hist_BTC_rec_send(0.0,50000.0)"
   ]
  },
  {
   "cell_type": "markdown",
   "metadata": {},
   "source": [
    "Overall, the irregularities in the features provide some confidence that there are significantly distinct addresses appearing on the BTC blockchain.\n",
    "\n",
    "It is therefore reasonable to investigate meaningful ways in which to cluster them."
   ]
  },
  {
   "cell_type": "markdown",
   "metadata": {},
   "source": [
    "## Clustering the Addresses"
   ]
  },
  {
   "cell_type": "markdown",
   "metadata": {},
   "source": [
    "We will now cluster the addresses using KMeans clustering."
   ]
  },
  {
   "cell_type": "code",
   "execution_count": null,
   "metadata": {},
   "outputs": [],
   "source": [
    "from sklearn.cluster import KMeans\n",
    "from sklearn.preprocessing import StandardScaler\n",
    "from sklearn.pipeline import Pipeline"
   ]
  },
  {
   "cell_type": "markdown",
   "metadata": {},
   "source": [
    "To figure out the number of clusters $k$ we run an \"elbow test\".\n",
    "\n",
    "An elbow test consist in ploting inertia (the sum of distances of each point from its cluster center) against $k$.\n",
    "\n",
    "The \"elbow point\" is the value of $k$ at which the inertia begins decreasing at a diminishing rate.\n",
    "\n",
    "It is a good indication of a \"correct\" or \"reasonable\" value for $k$."
   ]
  },
  {
   "cell_type": "code",
   "execution_count": null,
   "metadata": {},
   "outputs": [],
   "source": [
    "#we rescale our data first\n",
    "df_scaled = StandardScaler().fit_transform(df)"
   ]
  },
  {
   "cell_type": "code",
   "execution_count": null,
   "metadata": {},
   "outputs": [],
   "source": [
    "# a function that returns the elbow plot for k in the range [minclusters,maxclusters]\n",
    "def elbowplot(df_scaled,minclusters,maxclusters):\n",
    "    inertiae = []\n",
    "    for n in range(minclusters,maxclusters):\n",
    "        model = KMeans(n_clusters = n,random_state=63).fit(df)\n",
    "        inertiae.append((n,model.inertia_))\n",
    "    dftoplot = pd.DataFrame(inertiae,columns=['clusters','inertia'])\n",
    "    return dftoplot.plot(x='clusters',y='inertia',style='-o')"
   ]
  },
  {
   "cell_type": "code",
   "execution_count": null,
   "metadata": {},
   "outputs": [],
   "source": [
    "elbowplot(df_scaled,5,30)"
   ]
  },
  {
   "cell_type": "markdown",
   "metadata": {},
   "source": [
    "Here are also a few more pre-computed elbow plots, on several variations of both the address sample and the features selected.\n",
    "\n",
    "![Elbow Plot](Elbow_2.png)\n",
    "![Elbow Plot](Elbow_3.png)\n",
    "![Elbow Plot](Elbow_5.png)"
   ]
  },
  {
   "cell_type": "markdown",
   "metadata": {},
   "source": [
    "Another metric we can use (in the absence of acceptable ground truth values) is the sillhouette coefiicient.\n",
    "\n",
    "The silhouette coefficient $\\alpha$ ranges inside $[-1,1]$ and scores closest to $1$ indicate good clustering.\n",
    "\n",
    "Unfortunately, the results seem rather inconclusive, as the plot generated by the two cells below would indicate, although it does show a preference for a much smaller number of clusters (which could be the result of certain biases). \n",
    "\n",
    "Furthermore, due to computational limitations, we are also sampling 10% of the data in calculating the silhouette scores below, which could present another source of bias, as repeated runs of the below code demonstrate significant changes in the shape of the plot."
   ]
  },
  {
   "cell_type": "code",
   "execution_count": null,
   "metadata": {},
   "outputs": [],
   "source": [
    "from sklearn import metrics\n",
    "\n",
    "def silhouetteplot(df,minclusters,maxclusters):\n",
    "    scores = []\n",
    "    for n in range(minclusters,maxclusters):\n",
    "        X = pd.DataFrame(df).sample(frac=0.1)\n",
    "        model = KMeans(n_clusters = n,random_state=63).fit(X)\n",
    "        y = model.predict(X)\n",
    "        scores.append((n,metrics.silhouette_score(X, y,metric='euclidean')))\n",
    "    dftoplot = pd.DataFrame(scores,columns=['clusters','score'])\n",
    "    return dftoplot.plot(x='clusters',y='score',style='-o')"
   ]
  },
  {
   "cell_type": "code",
   "execution_count": null,
   "metadata": {},
   "outputs": [],
   "source": [
    "silhouetteplot(df_scaled,3,30) "
   ]
  },
  {
   "cell_type": "markdown",
   "metadata": {},
   "source": [
    "Thus, disregrading the silhouette score, and going solely on the elbow tests, the number $k = 20$ seems to us a reasonable one. \n",
    "\n",
    "We can of course vary $k$ at will, and even use it as a hyperparameter if a further model is built on the cluster data, but having some notion of a reasonable \"number of address types\" on the BTC blockchain seems to us of intrinsic interest.\n",
    "\n",
    "So we set our model at $k = 20$."
   ]
  },
  {
   "cell_type": "code",
   "execution_count": null,
   "metadata": {},
   "outputs": [],
   "source": [
    "addrtype = Pipeline([('StandardScaler',StandardScaler()),\n",
    "                  ('KMeans',KMeans(n_clusters = 20, random_state=33))])"
   ]
  },
  {
   "cell_type": "code",
   "execution_count": null,
   "metadata": {},
   "outputs": [],
   "source": [
    "addrtype.fit(df)"
   ]
  },
  {
   "cell_type": "markdown",
   "metadata": {},
   "source": [
    "## Visualizing Blocks Based on Address Activity"
   ]
  },
  {
   "cell_type": "markdown",
   "metadata": {},
   "source": [
    "We can now use our model `addrtype` to visualize the activity on individual blocks in the blockchain.\n",
    "\n",
    "First we can pick a block (by default the latest block, retrieved from the Blockchain.info API)..."
   ]
  },
  {
   "cell_type": "code",
   "execution_count": null,
   "metadata": {},
   "outputs": [],
   "source": [
    "import requests"
   ]
  },
  {
   "cell_type": "code",
   "execution_count": null,
   "metadata": {},
   "outputs": [],
   "source": [
    "block = requests.get('https://blockchain.info/q/latesthash')\n",
    "b = BitcoinBlock(block.text)"
   ]
  },
  {
   "cell_type": "markdown",
   "metadata": {},
   "source": [
    "...get the addresses on it..."
   ]
  },
  {
   "cell_type": "code",
   "execution_count": null,
   "metadata": {},
   "outputs": [],
   "source": [
    "blockaddresses = b.get_addresses()"
   ]
  },
  {
   "cell_type": "markdown",
   "metadata": {},
   "source": [
    "...see how many of them there are..."
   ]
  },
  {
   "cell_type": "code",
   "execution_count": null,
   "metadata": {},
   "outputs": [],
   "source": [
    "len(blockaddresses)"
   ]
  },
  {
   "cell_type": "markdown",
   "metadata": {},
   "source": [
    "...and also record the value of the transactions they were involved in."
   ]
  },
  {
   "cell_type": "code",
   "execution_count": null,
   "metadata": {},
   "outputs": [],
   "source": [
    "blockaddrval = b.get_addrval()\n",
    "txbal = blockaddrval[0]\n",
    "txapp = blockaddrval[1]"
   ]
  },
  {
   "cell_type": "markdown",
   "metadata": {},
   "source": [
    "Now, we obtain, for each address, its statistics..."
   ]
  },
  {
   "cell_type": "code",
   "execution_count": null,
   "metadata": {},
   "outputs": [],
   "source": [
    "A = []"
   ]
  },
  {
   "cell_type": "markdown",
   "metadata": {},
   "source": [
    "...setting a sampling parameter and obtaining a sample..."
   ]
  },
  {
   "cell_type": "code",
   "execution_count": null,
   "metadata": {},
   "outputs": [],
   "source": [
    "sampleparam = 500\n",
    "sample = pd.DataFrame(blockaddresses).sample(n=sampleparam)[0].tolist()"
   ]
  },
  {
   "cell_type": "markdown",
   "metadata": {},
   "source": [
    "...since even for `sampleparam = 500` the below computation will take approximately 5-10 minutes:"
   ]
  },
  {
   "cell_type": "code",
   "execution_count": null,
   "metadata": {},
   "outputs": [],
   "source": [
    "for a in sample:\n",
    "    print('Getting data for ', a,'...')\n",
    "    try:\n",
    "        A.append((a,txapp[a],txbal[a],BitcoinAddress(a).stats()))\n",
    "        print('...success')\n",
    "    except:\n",
    "        print('...failed')"
   ]
  },
  {
   "cell_type": "markdown",
   "metadata": {},
   "source": [
    "The below cells will serialize the statistics for the block above, in case one needs it for reuse."
   ]
  },
  {
   "cell_type": "code",
   "execution_count": null,
   "metadata": {},
   "outputs": [],
   "source": [
    "import pickle"
   ]
  },
  {
   "cell_type": "code",
   "execution_count": null,
   "metadata": {},
   "outputs": [],
   "source": [
    "#save the data for re-use\n",
    "pickle.dump(A,open('stats_'+block.text,'wb'))"
   ]
  },
  {
   "cell_type": "code",
   "execution_count": null,
   "metadata": {},
   "outputs": [],
   "source": [
    "C = [(a[0],a[1],a[2],addrtype.predict([a[3]])[0]) for a in A]\n",
    "dfb = pd.DataFrame(C,columns=['address','appearances','balance','cluster'])"
   ]
  },
  {
   "cell_type": "code",
   "execution_count": null,
   "metadata": {},
   "outputs": [],
   "source": [
    "dftoplot = dfb.groupby('cluster').sum()\n",
    "dftoplot['BTC'] = dftoplot['balance'] * 0.00000001\n",
    "dftoplot = dftoplot[['appearances','BTC']]"
   ]
  },
  {
   "cell_type": "code",
   "execution_count": null,
   "metadata": {},
   "outputs": [],
   "source": [
    "dftoplot"
   ]
  },
  {
   "cell_type": "code",
   "execution_count": null,
   "metadata": {},
   "outputs": [],
   "source": [
    "xs = dftoplot.index\n",
    "ys = np.log(dftoplot['appearances'])\n",
    "btcvalue = dftoplot['BTC'].values\n",
    "data_normalizer = mp.colors.Normalize()\n",
    "color_map = mp.colors.LinearSegmentedColormap(\"my_map\",\n",
    "            {'blue':[(0.0,  1.0, 1.0),(0.5,  0.5, 0.5),(1.0,  0.0, 0.0)],\\\n",
    "             'green': [(0.0,  0.0, 0.0),(0.25, 1.0, 1.0),(0.75, 0.0, 0.0),(1.0,  0.0, 0.0)],\\\n",
    "             'red':  [(0.0,  0.0, 0.0),(0.5,  0.5, 0.5),(1.0,  1.0, 1.0)]})\n",
    "# Map xs to numbers:\n",
    "N = len(xs)\n",
    "x_nums = np.arange(1, N+1)\n",
    "# Plot a bar graph:\n",
    "plt.bar(x_nums,ys,align=\"center\",color = color_map(data_normalizer(btcvalue)))\n",
    "# Change x numbers back to strings:\n",
    "plt.xticks(x_nums, xs)\n",
    "plt.figure(figsize=(200,50))"
   ]
  },
  {
   "cell_type": "markdown",
   "metadata": {},
   "source": [
    "The above bar chart can be thought of as the signature of a particular block. \n",
    "\n",
    "Bar colors indicate net inflow/outflow of BTC for a given cluster of addresses relative to the rest of the clusters.\n",
    "\n",
    "For example, a blue bar (corresponding to a cluster $n$, say) indicates that the addresses belonging to cluster $n$ sent more BTC than they received and had more outflow than the rest of the clusters. "
   ]
  },
  {
   "cell_type": "markdown",
   "metadata": {},
   "source": [
    "Let us now set things up so that we can plot for multiple values of $k$."
   ]
  },
  {
   "cell_type": "markdown",
   "metadata": {},
   "source": [
    "To speed things up (and to facilitate parallelization later) let's memoize the clustering models (this may take around 5-10 minutes)."
   ]
  },
  {
   "cell_type": "code",
   "execution_count": null,
   "metadata": {},
   "outputs": [],
   "source": [
    "addrtypemodel = {}\n",
    "for k in range(2,60):\n",
    "    print('Computing clustering for k='+str(k)+'...')\n",
    "    addrtype = Pipeline([('StandardScaler',StandardScaler()),\n",
    "                  ('KMeans',KMeans(n_clusters = k, random_state=33))])\n",
    "    addrtype.fit(df)\n",
    "    addrtypemodel[k] = addrtype\n",
    "    print('...done')"
   ]
  },
  {
   "cell_type": "code",
   "execution_count": null,
   "metadata": {},
   "outputs": [],
   "source": [
    "# serialize for re-use, if needed -- commented out to prevent overwrites.\n",
    "#pickle.dump(addrtypemodel,open('addrtypemodel.pkl','wb'))"
   ]
  },
  {
   "cell_type": "code",
   "execution_count": null,
   "metadata": {},
   "outputs": [],
   "source": [
    "addrtypemodel = pickle.load(open('addrtypemodel_upto_60.pkl','rb'))"
   ]
  },
  {
   "cell_type": "markdown",
   "metadata": {},
   "source": [
    "And we now put everything together in a function which returns the signature of a block for a given $k$..."
   ]
  },
  {
   "cell_type": "code",
   "execution_count": null,
   "metadata": {},
   "outputs": [],
   "source": [
    "def blocksignature(block,k):\n",
    "    C = [(a[0],a[1],a[2],addrtypemodel[k].predict([a[3]])[0]) for a in block]\n",
    "    dfb = pd.DataFrame(C,columns=['address','appearances','balance','cluster'])\n",
    "    dftoplot = dfb.groupby('cluster').sum()\n",
    "    dftoplot['BTC'] = dftoplot['balance'] * 0.00000001\n",
    "    dftoplot = dftoplot[['appearances','BTC']]\n",
    "    xs = dftoplot.index\n",
    "    ys = np.log(dftoplot['appearances'])\n",
    "    btcvalue = dftoplot['BTC'].values\n",
    "    data_normalizer = mp.colors.Normalize()\n",
    "    color_map = mp.colors.LinearSegmentedColormap(\"my_map\",\\\n",
    "        {'blue':[(0.0,  1.0, 1.0),(0.5,  0.5, 0.5),(1.0,  0.0, 0.0)],\\\n",
    "         'green': [(0.0,  0.0, 0.0),(0.25, 1.0, 1.0),(0.75, 0.0, 0.0),(1.0,  0.0, 0.0)],\\\n",
    "         'red':  [(0.0,  0.0, 0.0),(0.5,  0.5, 0.5),(1.0,  1.0, 1.0)]})\n",
    "    N = len(xs)\n",
    "    x_nums = np.arange(1, N+1)\n",
    "    plt.bar(x_nums,ys,align=\"center\",color = color_map(data_normalizer(btcvalue)))\n",
    "    plt.xticks(x_nums, xs)\n",
    "    return plt.figure(figsize=(200,50))"
   ]
  },
  {
   "cell_type": "markdown",
   "metadata": {},
   "source": [
    "...and so we can explore the block signature for several values of $k$"
   ]
  },
  {
   "cell_type": "code",
   "execution_count": null,
   "metadata": {},
   "outputs": [],
   "source": [
    "blocksignature(A,20)"
   ]
  },
  {
   "cell_type": "code",
   "execution_count": null,
   "metadata": {},
   "outputs": [],
   "source": [
    "from ipywidgets import interact\n",
    "    \n",
    "interact(lambda k: blocksignature(A,k), k=(2,59))"
   ]
  },
  {
   "cell_type": "markdown",
   "metadata": {},
   "source": [
    "## Conclusion: What could the data mean?"
   ]
  },
  {
   "cell_type": "markdown",
   "metadata": {},
   "source": [
    "Let us now compare signatures for different blocks.\n",
    "\n",
    "We preload a block from a \"normal trading period\"..."
   ]
  },
  {
   "cell_type": "code",
   "execution_count": null,
   "metadata": {},
   "outputs": [],
   "source": [
    "block3 = pickle.load(open('stats_00000000000000000023a22bd73183e3c0bdc483c1bea6ea8ac5cfeb32e4d359','rb'))"
   ]
  },
  {
   "cell_type": "markdown",
   "metadata": {},
   "source": [
    "...and visualize its signature."
   ]
  },
  {
   "cell_type": "code",
   "execution_count": null,
   "metadata": {},
   "outputs": [],
   "source": [
    "blocksignature(block3,20)"
   ]
  },
  {
   "cell_type": "markdown",
   "metadata": {},
   "source": [
    "Now let's preload a block from a trading day during which the USD value of BTC was crashing..."
   ]
  },
  {
   "cell_type": "code",
   "execution_count": null,
   "metadata": {},
   "outputs": [],
   "source": [
    "crashblock = pickle.load(open('stats_00000000000000000040881ea6d4e9232c42c20bbd67221ef866201dc285b567','rb'))"
   ]
  },
  {
   "cell_type": "markdown",
   "metadata": {},
   "source": [
    "...and visualize its signature:"
   ]
  },
  {
   "cell_type": "code",
   "execution_count": null,
   "metadata": {},
   "outputs": [],
   "source": [
    "blocksignature(crashblock,20)"
   ]
  },
  {
   "cell_type": "markdown",
   "metadata": {},
   "source": [
    "And let us see them together, where we can vary the number of clusters:"
   ]
  },
  {
   "cell_type": "code",
   "execution_count": null,
   "metadata": {},
   "outputs": [],
   "source": [
    "interact(lambda k: blocksignature(block3,k), k=(2,59))\n",
    "interact(lambda k: blocksignature(crashblock,k), k=(2,59))"
   ]
  },
  {
   "cell_type": "markdown",
   "metadata": {},
   "source": [
    "One can see, by inspection, a significant change in the signature of the blocks.\n",
    "\n",
    "In particular, cluster 0, which roughly corresponds to the \"funneling addresses\" which have very few transactions and act primarily as \"dummies\" for the movement of BTC, has gone from red to blue.\n",
    "\n",
    "It present some evidence that these signatures may contain a viable signal for USD/BTC price movements."
   ]
  }
 ],
 "metadata": {
  "kernelspec": {
   "display_name": "Python 3",
   "language": "python",
   "name": "python3"
  },
  "language_info": {
   "codemirror_mode": {
    "name": "ipython",
    "version": 3
   },
   "file_extension": ".py",
   "mimetype": "text/x-python",
   "name": "python",
   "nbconvert_exporter": "python",
   "pygments_lexer": "ipython3",
   "version": "3.6.5"
  }
 },
 "nbformat": 4,
 "nbformat_minor": 2
}
